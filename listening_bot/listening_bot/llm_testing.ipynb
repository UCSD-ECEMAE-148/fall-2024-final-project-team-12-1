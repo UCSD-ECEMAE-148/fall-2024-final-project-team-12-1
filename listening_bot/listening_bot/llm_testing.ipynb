{
 "cells": [
  {
   "cell_type": "code",
   "execution_count": null,
   "metadata": {},
   "outputs": [],
   "source": [
    "!set GOOGLE_API_KEY="
   ]
  },
  {
   "cell_type": "code",
   "execution_count": 1,
   "metadata": {},
   "outputs": [
    {
     "ename": "TypeError",
     "evalue": "make_gemini_request() missing 1 required positional argument: 'current_throttle'",
     "output_type": "error",
     "traceback": [
      "\u001b[1;31m---------------------------------------------------------------------------\u001b[0m",
      "\u001b[1;31mTypeError\u001b[0m                                 Traceback (most recent call last)",
      "Cell \u001b[1;32mIn[1], line 5\u001b[0m\n\u001b[0;32m      1\u001b[0m \u001b[38;5;28;01mfrom\u001b[39;00m \u001b[38;5;21;01mspeech_processing\u001b[39;00m \u001b[38;5;28;01mimport\u001b[39;00m get_steering_values_from_text\n\u001b[0;32m      3\u001b[0m testing_text \u001b[38;5;241m=\u001b[39m \u001b[38;5;124m\"\u001b[39m\u001b[38;5;124mabc\u001b[39m\u001b[38;5;124m\"\u001b[39m\n\u001b[1;32m----> 5\u001b[0m \u001b[43mget_steering_values_from_text\u001b[49m\u001b[43m(\u001b[49m\u001b[43mtesting_text\u001b[49m\u001b[43m,\u001b[49m\u001b[43m \u001b[49m\u001b[38;5;241;43m0.2\u001b[39;49m\u001b[43m,\u001b[49m\u001b[43m \u001b[49m\u001b[38;5;241;43m0.3\u001b[39;49m\u001b[43m)\u001b[49m\n",
      "File \u001b[1;32mc:\\dev\\MAE148FinalProject\\listening_bot\\listening_bot\\speech_processing.py:129\u001b[0m, in \u001b[0;36mget_steering_values_from_text\u001b[1;34m(text_recognized, current_angle, current_throttle)\u001b[0m\n\u001b[0;32m    127\u001b[0m \u001b[38;5;66;03m# LLM-based More complicated strings\u001b[39;00m\n\u001b[0;32m    128\u001b[0m time_before_llm \u001b[38;5;241m=\u001b[39m datetime\u001b[38;5;241m.\u001b[39mnow()\n\u001b[1;32m--> 129\u001b[0m response \u001b[38;5;241m=\u001b[39m \u001b[43mmake_gemini_request\u001b[49m\u001b[43m(\u001b[49m\u001b[43mtext_recognized\u001b[49m\u001b[43m,\u001b[49m\u001b[43m \u001b[49m\u001b[43mcurrent_angle\u001b[49m\u001b[43m,\u001b[49m\u001b[43m \u001b[49m\u001b[43mcurrent_throttle\u001b[49m\u001b[43m)\u001b[49m \u001b[38;5;66;03m# looks like: 'left 35 throttle 0.2 8'\u001b[39;00m\n\u001b[0;32m    130\u001b[0m llm_latency \u001b[38;5;241m=\u001b[39m (datetime\u001b[38;5;241m.\u001b[39mnow() \u001b[38;5;241m-\u001b[39m time_before_llm)\u001b[38;5;241m.\u001b[39mmicroseconds \u001b[38;5;241m/\u001b[39m \u001b[38;5;241m1000\u001b[39m\n\u001b[0;32m    131\u001b[0m \u001b[38;5;28mprint\u001b[39m(\u001b[38;5;124mf\u001b[39m\u001b[38;5;124m'\u001b[39m\u001b[38;5;124mResponse: \u001b[39m\u001b[38;5;132;01m{\u001b[39;00mresponse\u001b[38;5;132;01m}\u001b[39;00m\u001b[38;5;124m (latency: \u001b[39m\u001b[38;5;132;01m{\u001b[39;00mllm_latency\u001b[38;5;132;01m}\u001b[39;00m\u001b[38;5;124m ms)\u001b[39m\u001b[38;5;124m'\u001b[39m)\n",
      "\u001b[1;31mTypeError\u001b[0m: make_gemini_request() missing 1 required positional argument: 'current_throttle'"
     ]
    }
   ],
   "source": [
    "from speech_processing import get_steering_values_from_text\n",
    "\n",
    "testing_text = \"abc\"\n",
    "\n",
    "get_steering_values_from_text(testing_text, 0.2, 0.3)"
   ]
  }
 ],
 "metadata": {
  "kernelspec": {
   "display_name": ".venv",
   "language": "python",
   "name": "python3"
  },
  "language_info": {
   "codemirror_mode": {
    "name": "ipython",
    "version": 3
   },
   "file_extension": ".py",
   "mimetype": "text/x-python",
   "name": "python",
   "nbconvert_exporter": "python",
   "pygments_lexer": "ipython3",
   "version": "3.12.2"
  }
 },
 "nbformat": 4,
 "nbformat_minor": 2
}
