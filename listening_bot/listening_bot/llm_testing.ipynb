{
 "cells": [
  {
   "cell_type": "code",
   "execution_count": 1,
   "metadata": {},
   "outputs": [
    {
     "name": "stdout",
     "output_type": "stream",
     "text": [
      "env: GOOGLE_API_KEY=\n"
     ]
    }
   ],
   "source": [
    "%env GOOGLE_API_KEY="
   ]
  },
  {
   "cell_type": "code",
   "execution_count": null,
   "metadata": {},
   "outputs": [
    {
     "name": "stdout",
     "output_type": "stream",
     "text": [
      "Response text: {\"direction\": \"right\", \"angle\": 10.0, \"throttle_mode\": \"forward\", \"throttle_value\": \"default\", \"timeout\": 4.0}\n",
      " (latency: 900.275 ms)\n"
     ]
    },
    {
     "data": {
      "text/plain": [
       "(0.2222222222222222, 0.2, 4.0)"
      ]
     },
     "execution_count": 2,
     "metadata": {},
     "output_type": "execute_result"
    }
   ],
   "source": [
    "from speech_processing import get_steering_values_from_text\n",
    "\n",
    "# ADJUST VALUES HERE FOR TESTING\n",
    "testing_text = \"sonic turn right slightly for 4 seconds\"\n",
    "current_angle = 0.1\n",
    "current_throttle = 0.3\n",
    "current_timeout = 10\n",
    "################################\n",
    "\n",
    "resp = get_steering_values_from_text(testing_text)\n",
    "resp"
   ]
  }
 ],
 "metadata": {
  "kernelspec": {
   "display_name": ".venv",
   "language": "python",
   "name": "python3"
  },
  "language_info": {
   "codemirror_mode": {
    "name": "ipython",
    "version": 3
   },
   "file_extension": ".py",
   "mimetype": "text/x-python",
   "name": "python",
   "nbconvert_exporter": "python",
   "pygments_lexer": "ipython3",
   "version": "3.12.2"
  }
 },
 "nbformat": 4,
 "nbformat_minor": 2
}
